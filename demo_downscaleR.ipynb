{
 "cells": [
  {
   "cell_type": "code",
   "execution_count": null,
   "metadata": {
    "vscode": {
     "languageId": "plaintext"
    }
   },
   "outputs": [],
   "source": [
    "library(downscaleR)\n",
    "library(climate4R.datasets)"
   ]
  },
  {
   "cell_type": "code",
   "execution_count": null,
   "metadata": {
    "vscode": {
     "languageId": "plaintext"
    }
   },
   "outputs": [],
   "source": [
    "data(\"VALUE_Iberia_tas\") # illustrative datasets included in transformeR\n",
    "y <- VALUE_Iberia_tas \n",
    "data(\"NCEP_Iberia_hus850\", \"NCEP_Iberia_psl\", \"NCEP_Iberia_ta850\")\n",
    "x <- makeMultiGrid(NCEP_Iberia_hus850, NCEP_Iberia_psl, NCEP_Iberia_ta850)"
   ]
  },
  {
   "cell_type": "code",
   "execution_count": null,
   "metadata": {
    "vscode": {
     "languageId": "plaintext"
    }
   },
   "outputs": [],
   "source": [
    "# calculating predictors\n",
    "data <- prepareData(x = x, y = y,spatial.predictors = list(v.exp = 0.95)) "
   ]
  },
  {
   "cell_type": "code",
   "execution_count": null,
   "metadata": {
    "vscode": {
     "languageId": "plaintext"
    }
   },
   "outputs": [],
   "source": [
    "# Fitting statistical downscaling methods (simple case, no cross-validation)\n",
    "analog <- downscaleTrain(data, method = \"analogs\", n.analogs = 1)\n",
    "regression <- downscaleTrain(data, method = \"GLM\",family = gaussian)\n",
    "neuralnet <- downscaleTrain(data, method = \"NN\", hidden = c(10,5), output = \"linear\")"
   ]
  },
  {
   "cell_type": "code",
   "execution_count": null,
   "metadata": {
    "vscode": {
     "languageId": "plaintext"
    }
   },
   "outputs": [],
   "source": [
    "# Extracting the results for a particula station (Igueldo) for a single year (2000)\n",
    "igueldo.2000 <- subsetGrid(y,station.id = \"000234\",years = 2000)\n",
    "analog.2000 <- subsetGrid(analog$pred,station.id = \"000234\",years = 2000)\n",
    "regression.2000 <- subsetGrid(regression$pred,station.id = \"000234\",years = 2000)\n",
    "neuralnet.2000 <- subsetGrid(neuralnet$pred,station.id = \"000234\",years = 2000)"
   ]
  },
  {
   "cell_type": "code",
   "execution_count": null,
   "metadata": {
    "vscode": {
     "languageId": "plaintext"
    }
   },
   "outputs": [],
   "source": [
    "library(visualizeR)  # Data visualization utilities\n",
    "temporalPlot(igueldo.2000, analog.2000, regression.2000, neuralnet.2000)"
   ]
  }
 ],
 "metadata": {
  "kernelspec": {
   "display_name": "R",
   "language": "R",
   "name": "ir"
  },
  "language_info": {
   "codemirror_mode": "r",
   "file_extension": ".r",
   "mimetype": "text/x-r-source",
   "name": "R",
   "pygments_lexer": "r",
   "version": "3.6.3"
  }
 },
 "nbformat": 4,
 "nbformat_minor": 2
}
